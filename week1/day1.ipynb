{
 "cells": [
  {
   "cell_type": "markdown",
   "id": "d15d8294-3328-4e07-ad16-8a03e9bbfdb9",
   "metadata": {},
   "source": [
    "# YOUR FIRST LAB\n",
    "### Please read this section. This is valuable to get you prepared, even if it's a long read -- it's important stuff.\n",
    "\n",
    "## Your first Frontier LLM Project\n",
    "\n",
    "Let's build a useful LLM solution - in a matter of minutes.\n",
    "\n",
    "By the end of this course, you will have built an autonomous Agentic AI solution with 7 agents that collaborate to solve a business problem. All in good time! We will start with something smaller...\n",
    "\n",
    "Our goal is to code a new kind of Web Browser. Give it a URL, and it will respond with a summary. The Reader's Digest of the internet!!\n",
    "\n",
    "Before starting, you should have completed the setup for [PC](../SETUP-PC.md) or [Mac](../SETUP-mac.md) and you hopefully launched this jupyter lab from within the project root directory, with your environment activated.\n",
    "\n",
    "## If you're new to Jupyter Lab\n",
    "\n",
    "Welcome to the wonderful world of Data Science experimentation! Once you've used Jupyter Lab, you'll wonder how you ever lived without it. Simply click in each \"cell\" with code in it, such as the cell immediately below this text, and hit Shift+Return to execute that cell. As you wish, you can add a cell with the + button in the toolbar, and print values of variables, or try out variations.  \n",
    "\n",
    "I've written a notebook called [Guide to Jupyter](Guide%20to%20Jupyter.ipynb) to help you get more familiar with Jupyter Labs, including adding Markdown comments, using `!` to run shell commands, and `tqdm` to show progress.\n",
    "\n",
    "## If you're new to the Command Line\n",
    "\n",
    "Please see these excellent guides: [Command line on PC](https://chatgpt.com/share/67b0acea-ba38-8012-9c34-7a2541052665) and [Command line on Mac](https://chatgpt.com/canvas/shared/67b0b10c93a081918210723867525d2b).  \n",
    "\n",
    "## If you'd prefer to work in IDEs\n",
    "\n",
    "If you're more comfortable in IDEs like VSCode or Pycharm, they both work great with these lab notebooks too.  \n",
    "If you'd prefer to work in VSCode, [here](https://chatgpt.com/share/676f2e19-c228-8012-9911-6ca42f8ed766) are instructions from an AI friend on how to configure it for the course.\n",
    "\n",
    "## If you'd like to brush up your Python\n",
    "\n",
    "I've added a notebook called [Intermediate Python](Intermediate%20Python.ipynb) to get you up to speed. But you should give it a miss if you already have a good idea what this code does:    \n",
    "`yield from {book.get(\"author\") for book in books if book.get(\"author\")}`\n",
    "\n",
    "## I am here to help\n",
    "\n",
    "If you have any problems at all, please do reach out.  \n",
    "I'm available through the platform, or at ed@edwarddonner.com, or at https://www.linkedin.com/in/eddonner/ if you'd like to connect (and I love connecting!)  \n",
    "And this is new to me, but I'm also trying out X/Twitter at [@edwarddonner](https://x.com/edwarddonner) - if you're on X, please show me how it's done 😂  \n",
    "\n",
    "## More troubleshooting\n",
    "\n",
    "Please see the [troubleshooting](troubleshooting.ipynb) notebook in this folder to diagnose and fix common problems. At the very end of it is a diagnostics script with some useful debug info.\n",
    "\n",
    "## If this is old hat!\n",
    "\n",
    "If you're already comfortable with today's material, please hang in there; you can move swiftly through the first few labs - we will get much more in depth as the weeks progress.\n",
    "\n",
    "<table style=\"margin: 0; text-align: left;\">\n",
    "    <tr>\n",
    "        <td style=\"width: 150px; height: 150px; vertical-align: middle;\">\n",
    "            <img src=\"../important.jpg\" width=\"150\" height=\"150\" style=\"display: block;\" />\n",
    "        </td>\n",
    "        <td>\n",
    "            <h2 style=\"color:#900;\">Please read - important note</h2>\n",
    "            <span style=\"color:#900;\">The way I collaborate with you may be different to other courses you've taken. I prefer not to type code while you watch. Rather, I execute Jupyter Labs, like this, and give you an intuition for what's going on. My suggestion is that you carefully execute this yourself, <b>after</b> watching the lecture. Add print statements to understand what's going on, and then come up with your own variations. If you have a Github account, use this to showcase your variations. Not only is this essential practice, but it demonstrates your skills to others, including perhaps future clients or employers...</span>\n",
    "        </td>\n",
    "    </tr>\n",
    "</table>\n",
    "<table style=\"margin: 0; text-align: left;\">\n",
    "    <tr>\n",
    "        <td style=\"width: 150px; height: 150px; vertical-align: middle;\">\n",
    "            <img src=\"../resources.jpg\" width=\"150\" height=\"150\" style=\"display: block;\" />\n",
    "        </td>\n",
    "        <td>\n",
    "            <h2 style=\"color:#f71;\">Treat these labs as a resource</h2>\n",
    "            <span style=\"color:#f71;\">I push updates to the code regularly. When people ask questions or have problems, I incorporate it in the code, adding more examples or improved commentary. As a result, you'll notice that the code below isn't identical to the videos. Everything from the videos is here; but in addition, I've added more steps and better explanations, and occasionally added new models like DeepSeek. Consider this like an interactive book that accompanies the lectures.\n",
    "            </span>\n",
    "        </td>\n",
    "    </tr>\n",
    "</table>\n",
    "<table style=\"margin: 0; text-align: left;\">\n",
    "    <tr>\n",
    "        <td style=\"width: 150px; height: 150px; vertical-align: middle;\">\n",
    "            <img src=\"../business.jpg\" width=\"150\" height=\"150\" style=\"display: block;\" />\n",
    "        </td>\n",
    "        <td>\n",
    "            <h2 style=\"color:#181;\">Business value of these exercises</h2>\n",
    "            <span style=\"color:#181;\">A final thought. While I've designed these notebooks to be educational, I've also tried to make them enjoyable. We'll do fun things like have LLMs tell jokes and argue with each other. But fundamentally, my goal is to teach skills you can apply in business. I'll explain business implications as we go, and it's worth keeping this in mind: as you build experience with models and techniques, think of ways you could put this into action at work today. Please do contact me if you'd like to discuss more or if you have ideas to bounce off me.</span>\n",
    "        </td>\n",
    "    </tr>\n",
    "</table>"
   ]
  },
  {
   "cell_type": "code",
   "execution_count": 1,
   "id": "4e2a9393-7767-488e-a8bf-27c12dca35bd",
   "metadata": {},
   "outputs": [],
   "source": [
    "# imports\n",
    "\n",
    "import os\n",
    "import requests\n",
    "from dotenv import load_dotenv\n",
    "from bs4 import BeautifulSoup\n",
    "from IPython.display import Markdown, display\n",
    "from openai import OpenAI\n",
    "\n",
    "# If you get an error running this cell, then please head over to the troubleshooting notebook!"
   ]
  },
  {
   "cell_type": "markdown",
   "id": "6900b2a8-6384-4316-8aaa-5e519fca4254",
   "metadata": {},
   "source": [
    "# Connecting to OpenAI\n",
    "\n",
    "The next cell is where we load in the environment variables in your `.env` file and connect to OpenAI.\n",
    "\n",
    "## Troubleshooting if you have problems:\n",
    "\n",
    "Head over to the [troubleshooting](troubleshooting.ipynb) notebook in this folder for step by step code to identify the root cause and fix it!\n",
    "\n",
    "If you make a change, try restarting the \"Kernel\" (the python process sitting behind this notebook) by Kernel menu >> Restart Kernel and Clear Outputs of All Cells. Then try this notebook again, starting at the top.\n",
    "\n",
    "Or, contact me! Message me or email ed@edwarddonner.com and we will get this to work.\n",
    "\n",
    "Any concerns about API costs? See my notes in the README - costs should be minimal, and you can control it at every point. You can also use Ollama as a free alternative, which we discuss during Day 2."
   ]
  },
  {
   "cell_type": "code",
   "execution_count": 2,
   "id": "7b87cadb-d513-4303-baee-a37b6f938e4d",
   "metadata": {},
   "outputs": [
    {
     "name": "stdout",
     "output_type": "stream",
     "text": [
      "API key found and looks good so far!\n"
     ]
    }
   ],
   "source": [
    "# Load environment variables in a file called .env\n",
    "\n",
    "load_dotenv(override=True)\n",
    "api_key = os.getenv('OPENAI_API_KEY')\n",
    "\n",
    "# Check the key\n",
    "\n",
    "if not api_key:\n",
    "    print(\"No API key was found - please head over to the troubleshooting notebook in this folder to identify & fix!\")\n",
    "elif not api_key.startswith(\"sk-proj-\"):\n",
    "    print(\"An API key was found, but it doesn't start sk-proj-; please check you're using the right key - see troubleshooting notebook\")\n",
    "elif api_key.strip() != api_key:\n",
    "    print(\"An API key was found, but it looks like it might have space or tab characters at the start or end - please remove them - see troubleshooting notebook\")\n",
    "else:\n",
    "    print(\"API key found and looks good so far!\")\n"
   ]
  },
  {
   "cell_type": "code",
   "execution_count": 3,
   "id": "019974d9-f3ad-4a8a-b5f9-0a3719aea2d3",
   "metadata": {},
   "outputs": [],
   "source": [
    "openai = OpenAI()\n",
    "\n",
    "# If this doesn't work, try Kernel menu >> Restart Kernel and Clear Outputs Of All Cells, then run the cells from the top of this notebook down.\n",
    "# If it STILL doesn't work (horrors!) then please see the Troubleshooting notebook in this folder for full instructions"
   ]
  },
  {
   "cell_type": "markdown",
   "id": "442fc84b-0815-4f40-99ab-d9a5da6bda91",
   "metadata": {},
   "source": [
    "# Let's make a quick call to a Frontier model to get started, as a preview!"
   ]
  },
  {
   "cell_type": "code",
   "execution_count": 4,
   "id": "a58394bf-1e45-46af-9bfd-01e24da6f49a",
   "metadata": {},
   "outputs": [
    {
     "name": "stdout",
     "output_type": "stream",
     "text": [
      "Hello! It’s great to hear from you! Welcome! How can I assist you today?\n"
     ]
    }
   ],
   "source": [
    "# To give you a preview -- calling OpenAI with these messages is this easy. Any problems, head over to the Troubleshooting notebook.\n",
    "\n",
    "message = \"Hello, GPT! This is my first ever message to you! Hi!\"\n",
    "response = openai.chat.completions.create(model=\"gpt-4o-mini\", messages=[{\"role\":\"user\", \"content\":message}])\n",
    "print(response.choices[0].message.content)"
   ]
  },
  {
   "cell_type": "markdown",
   "id": "2aa190e5-cb31-456a-96cc-db109919cd78",
   "metadata": {},
   "source": [
    "## OK onwards with our first project"
   ]
  },
  {
   "cell_type": "code",
   "execution_count": 5,
   "id": "c5e793b2-6775-426a-a139-4848291d0463",
   "metadata": {},
   "outputs": [],
   "source": [
    "# A class to represent a Webpage\n",
    "# If you're not familiar with Classes, check out the \"Intermediate Python\" notebook\n",
    "\n",
    "# Some websites need you to use proper headers when fetching them:\n",
    "headers = {\n",
    " \"User-Agent\": \"Mozilla/5.0 (Windows NT 10.0; Win64; x64) AppleWebKit/537.36 (KHTML, like Gecko) Chrome/117.0.0.0 Safari/537.36\"\n",
    "}\n",
    "\n",
    "class Website:\n",
    "\n",
    "    def __init__(self, url):\n",
    "        \"\"\"\n",
    "        Create this Website object from the given url using the BeautifulSoup library\n",
    "        \"\"\"\n",
    "        self.url = url\n",
    "        response = requests.get(url, headers=headers)\n",
    "        soup = BeautifulSoup(response.content, 'html.parser')\n",
    "        self.title = soup.title.string if soup.title else \"No title found\"\n",
    "        for irrelevant in soup.body([\"script\", \"style\", \"img\", \"input\"]):\n",
    "            irrelevant.decompose()\n",
    "        self.text = soup.body.get_text(separator=\"\\n\", strip=True)"
   ]
  },
  {
   "cell_type": "code",
   "execution_count": 8,
   "id": "2ef960cf-6dc2-4cda-afb3-b38be12f4c97",
   "metadata": {},
   "outputs": [
    {
     "name": "stdout",
     "output_type": "stream",
     "text": [
      "Kenneth G. Wood - Data Scientist\n",
      "Kenneth G. Wood\n",
      "Data Scientist\n",
      "Welcome to my Website!\n",
      "Intro\n",
      "Work\n",
      "Resume\n",
      "Social\n",
      "Intro\n",
      "I am a seasoned data scientist who selects, trains and tunes machine learning algorithms (linear/logistic regression, classifiers, neural networks) to transform structured and unstructured data into actionable insights and 'stories'.  The results and value I produce typically drive and shape business strategies and product roadmaps for cloud-based and SaaS software technology solutions. I am proficient with a number of data analysis and programming tools such as Python (including Pandas, NumPy, SciKit-Learn & TensorFlow), R, SQL, Excel and Tableau.\n",
      "Work\n",
      "A machine learning project where I used AWS Sagemaker to perform principle component analysis (PCA) and trained a XGBoost classifier to predict the presence of heart disease.\n",
      "PREDICTING HEART DISEASE USING PCA FOR DIMENSIONALITY REDUCTION AND XGBOOST CLASSIFICATION IN AWS SAGEMAKER AND SCI-KIT LEARN\n",
      "A machine learning project where I used Python's 'TensorFlow' package to train a 100 node recurrent neural network to make predictions on time-series data.\n",
      "TRAINING AN RNN IN TENSORFLOW TO PREDICT TIME-SERIES DATA\n",
      "In this project, I leveraged a machine learning algorithm called Markov Chains to describe a sequence of possible marketing events in which the probability of each event depends only on the state attained in the previous event. In the context of channel attribution, Markov Chains provide a framework to model user journeys and how each channel factors into the users traveling from one channel to another to eventually purchase (or not). The underlying concept of Markov chains is that customer journey data can be processed to identify the probabilities of moving from one event to another in a network of potential marketing channel events and conversion events.\n",
      "MARKETING CHANNEL ATTRIBUTION USING MARKOV CHAINS\n",
      "A self-produced video that presents the key findings of a comprehensive marketing data analysis project that used SQL queries to extract relevant data from a multi-location database.  A majority of the subsequent data analysis (i.e., number “crunching”) was performed in Excel (using the 'Solver' optimizer) and the results were presented using Tableau, a powerful data visualization platform.\n",
      "INCREASING PROFITS BY HARNESSING DATA ANALYTICS\n",
      "KEN'S GITHUB SITE\n",
      "KEN'S RPUBs (R PROGRAMMING) SITE\n",
      "Resume\n",
      "Download a copy of Ken's current resume.\n",
      "Resume\n",
      "Social\n",
      "LinkedIn\n",
      "GitHub\n",
      "R\n",
      "E-mail\n",
      "Elements\n",
      "Text\n",
      "This is\n",
      "bold\n",
      "and this is\n",
      "strong\n",
      ". This is\n",
      "italic\n",
      "and this is\n",
      "emphasized\n",
      ".\n",
      "\t\t\t\t\t\t\t\t\tThis is\n",
      "superscript\n",
      "text and this is\n",
      "subscript\n",
      "text.\n",
      "\t\t\t\t\t\t\t\t\tThis is\n",
      "underlined\n",
      "and this is code:\n",
      "for (;;) { ... }\n",
      ". Finally,\n",
      "this is a link\n",
      ".\n",
      "Heading Level 2\n",
      "Heading Level 3\n",
      "Heading Level 4\n",
      "Heading Level 5\n",
      "Heading Level 6\n",
      "Blockquote\n",
      "Fringilla nisl. Donec accumsan interdum nisi, quis tincidunt felis sagittis eget tempus euismod. Vestibulum ante ipsum primis in faucibus vestibulum. Blandit adipiscing eu felis iaculis volutpat ac adipiscing accumsan faucibus. Vestibulum ante ipsum primis in faucibus lorem ipsum dolor sit amet nullam adipiscing eu felis.\n",
      "Preformatted\n",
      "i = 0;\n",
      "\n",
      "while (!deck.isInOrder()) {\n",
      "    print 'Iteration ' + i;\n",
      "    deck.shuffle();\n",
      "    i++;\n",
      "}\n",
      "\n",
      "print 'It took ' + i + ' iterations to sort the deck.';\n",
      "Lists\n",
      "Unordered\n",
      "Dolor pulvinar etiam.\n",
      "Sagittis adipiscing.\n",
      "Felis enim feugiat.\n",
      "Alternate\n",
      "Dolor pulvinar etiam.\n",
      "Sagittis adipiscing.\n",
      "Felis enim feugiat.\n",
      "Ordered\n",
      "Dolor pulvinar etiam.\n",
      "Etiam vel felis viverra.\n",
      "Felis enim feugiat.\n",
      "Dolor pulvinar etiam.\n",
      "Etiam vel felis lorem.\n",
      "Felis enim et feugiat.\n",
      "Icons\n",
      "Twitter\n",
      "Facebook\n",
      "Instagram\n",
      "Github\n",
      "Actions\n",
      "Default\n",
      "Default\n",
      "Default\n",
      "Default\n",
      "Table\n",
      "Default\n",
      "Name\n",
      "Description\n",
      "Price\n",
      "Item One\n",
      "Ante turpis integer aliquet porttitor.\n",
      "29.99\n",
      "Item Two\n",
      "Vis ac commodo adipiscing arcu aliquet.\n",
      "19.99\n",
      "Item Three\n",
      "Morbi faucibus arcu accumsan lorem.\n",
      "29.99\n",
      "Item Four\n",
      "Vitae integer tempus condimentum.\n",
      "19.99\n",
      "Item Five\n",
      "Ante turpis integer aliquet porttitor.\n",
      "29.99\n",
      "100.00\n",
      "Alternate\n",
      "Name\n",
      "Description\n",
      "Price\n",
      "Item One\n",
      "Ante turpis integer aliquet porttitor.\n",
      "29.99\n",
      "Item Two\n",
      "Vis ac commodo adipiscing arcu aliquet.\n",
      "19.99\n",
      "Item Three\n",
      "Morbi faucibus arcu accumsan lorem.\n",
      "29.99\n",
      "Item Four\n",
      "Vitae integer tempus condimentum.\n",
      "19.99\n",
      "Item Five\n",
      "Ante turpis integer aliquet porttitor.\n",
      "29.99\n",
      "100.00\n",
      "Buttons\n",
      "Primary\n",
      "Default\n",
      "Default\n",
      "Small\n",
      "Icon\n",
      "Icon\n",
      "Disabled\n",
      "Disabled\n",
      "Form\n",
      "Name\n",
      "Email\n",
      "Category\n",
      "-\n",
      "Manufacturing\n",
      "Shipping\n",
      "Administration\n",
      "Human Resources\n",
      "Low\n",
      "High\n",
      "Email me a copy\n",
      "Not a robot\n",
      "Message\n"
     ]
    }
   ],
   "source": [
    "# Let's try one out. Change the website and add print statements to follow along.\n",
    "\n",
    "ken = Website(\"https://roarmarketingconcepts.github.io\")\n",
    "print(ken.title)\n",
    "print(ken.text)"
   ]
  },
  {
   "cell_type": "markdown",
   "id": "6a478a0c-2c53-48ff-869c-4d08199931e1",
   "metadata": {},
   "source": [
    "## Types of prompts\n",
    "\n",
    "You may know this already - but if not, you will get very familiar with it!\n",
    "\n",
    "Models like GPT4o have been trained to receive instructions in a particular way.\n",
    "\n",
    "They expect to receive:\n",
    "\n",
    "**A system prompt** that tells them what task they are performing and what tone they should use\n",
    "\n",
    "**A user prompt** -- the conversation starter that they should reply to"
   ]
  },
  {
   "cell_type": "code",
   "execution_count": 9,
   "id": "abdb8417-c5dc-44bc-9bee-2e059d162699",
   "metadata": {},
   "outputs": [],
   "source": [
    "# Define our system prompt - you can experiment with this later, changing the last sentence to 'Respond in markdown in Spanish.\"\n",
    "\n",
    "system_prompt = \"You are an assistant that analyzes the contents of a website \\\n",
    "and provides a short summary, ignoring text that might be navigation related. \\\n",
    "Respond in markdown.\""
   ]
  },
  {
   "cell_type": "code",
   "execution_count": 10,
   "id": "f0275b1b-7cfe-4f9d-abfa-7650d378da0c",
   "metadata": {},
   "outputs": [],
   "source": [
    "# A function that writes a User Prompt that asks for summaries of websites:\n",
    "\n",
    "def user_prompt_for(website):\n",
    "    user_prompt = f\"You are looking at a website titled {website.title}\"\n",
    "    user_prompt += \"\\nThe contents of this website is as follows; \\\n",
    "please provide a short summary of this website in markdown. \\\n",
    "If it includes news or announcements, then summarize these too.\\n\\n\"\n",
    "    user_prompt += website.text\n",
    "    return user_prompt"
   ]
  },
  {
   "cell_type": "code",
   "execution_count": 11,
   "id": "26448ec4-5c00-4204-baec-7df91d11ff2e",
   "metadata": {},
   "outputs": [
    {
     "name": "stdout",
     "output_type": "stream",
     "text": [
      "You are looking at a website titled Kenneth G. Wood - Data Scientist\n",
      "The contents of this website is as follows; please provide a short summary of this website in markdown. If it includes news or announcements, then summarize these too.\n",
      "\n",
      "Kenneth G. Wood\n",
      "Data Scientist\n",
      "Welcome to my Website!\n",
      "Intro\n",
      "Work\n",
      "Resume\n",
      "Social\n",
      "Intro\n",
      "I am a seasoned data scientist who selects, trains and tunes machine learning algorithms (linear/logistic regression, classifiers, neural networks) to transform structured and unstructured data into actionable insights and 'stories'.  The results and value I produce typically drive and shape business strategies and product roadmaps for cloud-based and SaaS software technology solutions. I am proficient with a number of data analysis and programming tools such as Python (including Pandas, NumPy, SciKit-Learn & TensorFlow), R, SQL, Excel and Tableau.\n",
      "Work\n",
      "A machine learning project where I used AWS Sagemaker to perform principle component analysis (PCA) and trained a XGBoost classifier to predict the presence of heart disease.\n",
      "PREDICTING HEART DISEASE USING PCA FOR DIMENSIONALITY REDUCTION AND XGBOOST CLASSIFICATION IN AWS SAGEMAKER AND SCI-KIT LEARN\n",
      "A machine learning project where I used Python's 'TensorFlow' package to train a 100 node recurrent neural network to make predictions on time-series data.\n",
      "TRAINING AN RNN IN TENSORFLOW TO PREDICT TIME-SERIES DATA\n",
      "In this project, I leveraged a machine learning algorithm called Markov Chains to describe a sequence of possible marketing events in which the probability of each event depends only on the state attained in the previous event. In the context of channel attribution, Markov Chains provide a framework to model user journeys and how each channel factors into the users traveling from one channel to another to eventually purchase (or not). The underlying concept of Markov chains is that customer journey data can be processed to identify the probabilities of moving from one event to another in a network of potential marketing channel events and conversion events.\n",
      "MARKETING CHANNEL ATTRIBUTION USING MARKOV CHAINS\n",
      "A self-produced video that presents the key findings of a comprehensive marketing data analysis project that used SQL queries to extract relevant data from a multi-location database.  A majority of the subsequent data analysis (i.e., number “crunching”) was performed in Excel (using the 'Solver' optimizer) and the results were presented using Tableau, a powerful data visualization platform.\n",
      "INCREASING PROFITS BY HARNESSING DATA ANALYTICS\n",
      "KEN'S GITHUB SITE\n",
      "KEN'S RPUBs (R PROGRAMMING) SITE\n",
      "Resume\n",
      "Download a copy of Ken's current resume.\n",
      "Resume\n",
      "Social\n",
      "LinkedIn\n",
      "GitHub\n",
      "R\n",
      "E-mail\n",
      "Elements\n",
      "Text\n",
      "This is\n",
      "bold\n",
      "and this is\n",
      "strong\n",
      ". This is\n",
      "italic\n",
      "and this is\n",
      "emphasized\n",
      ".\n",
      "\t\t\t\t\t\t\t\t\tThis is\n",
      "superscript\n",
      "text and this is\n",
      "subscript\n",
      "text.\n",
      "\t\t\t\t\t\t\t\t\tThis is\n",
      "underlined\n",
      "and this is code:\n",
      "for (;;) { ... }\n",
      ". Finally,\n",
      "this is a link\n",
      ".\n",
      "Heading Level 2\n",
      "Heading Level 3\n",
      "Heading Level 4\n",
      "Heading Level 5\n",
      "Heading Level 6\n",
      "Blockquote\n",
      "Fringilla nisl. Donec accumsan interdum nisi, quis tincidunt felis sagittis eget tempus euismod. Vestibulum ante ipsum primis in faucibus vestibulum. Blandit adipiscing eu felis iaculis volutpat ac adipiscing accumsan faucibus. Vestibulum ante ipsum primis in faucibus lorem ipsum dolor sit amet nullam adipiscing eu felis.\n",
      "Preformatted\n",
      "i = 0;\n",
      "\n",
      "while (!deck.isInOrder()) {\n",
      "    print 'Iteration ' + i;\n",
      "    deck.shuffle();\n",
      "    i++;\n",
      "}\n",
      "\n",
      "print 'It took ' + i + ' iterations to sort the deck.';\n",
      "Lists\n",
      "Unordered\n",
      "Dolor pulvinar etiam.\n",
      "Sagittis adipiscing.\n",
      "Felis enim feugiat.\n",
      "Alternate\n",
      "Dolor pulvinar etiam.\n",
      "Sagittis adipiscing.\n",
      "Felis enim feugiat.\n",
      "Ordered\n",
      "Dolor pulvinar etiam.\n",
      "Etiam vel felis viverra.\n",
      "Felis enim feugiat.\n",
      "Dolor pulvinar etiam.\n",
      "Etiam vel felis lorem.\n",
      "Felis enim et feugiat.\n",
      "Icons\n",
      "Twitter\n",
      "Facebook\n",
      "Instagram\n",
      "Github\n",
      "Actions\n",
      "Default\n",
      "Default\n",
      "Default\n",
      "Default\n",
      "Table\n",
      "Default\n",
      "Name\n",
      "Description\n",
      "Price\n",
      "Item One\n",
      "Ante turpis integer aliquet porttitor.\n",
      "29.99\n",
      "Item Two\n",
      "Vis ac commodo adipiscing arcu aliquet.\n",
      "19.99\n",
      "Item Three\n",
      "Morbi faucibus arcu accumsan lorem.\n",
      "29.99\n",
      "Item Four\n",
      "Vitae integer tempus condimentum.\n",
      "19.99\n",
      "Item Five\n",
      "Ante turpis integer aliquet porttitor.\n",
      "29.99\n",
      "100.00\n",
      "Alternate\n",
      "Name\n",
      "Description\n",
      "Price\n",
      "Item One\n",
      "Ante turpis integer aliquet porttitor.\n",
      "29.99\n",
      "Item Two\n",
      "Vis ac commodo adipiscing arcu aliquet.\n",
      "19.99\n",
      "Item Three\n",
      "Morbi faucibus arcu accumsan lorem.\n",
      "29.99\n",
      "Item Four\n",
      "Vitae integer tempus condimentum.\n",
      "19.99\n",
      "Item Five\n",
      "Ante turpis integer aliquet porttitor.\n",
      "29.99\n",
      "100.00\n",
      "Buttons\n",
      "Primary\n",
      "Default\n",
      "Default\n",
      "Small\n",
      "Icon\n",
      "Icon\n",
      "Disabled\n",
      "Disabled\n",
      "Form\n",
      "Name\n",
      "Email\n",
      "Category\n",
      "-\n",
      "Manufacturing\n",
      "Shipping\n",
      "Administration\n",
      "Human Resources\n",
      "Low\n",
      "High\n",
      "Email me a copy\n",
      "Not a robot\n",
      "Message\n"
     ]
    }
   ],
   "source": [
    "print(user_prompt_for(ken))"
   ]
  },
  {
   "cell_type": "markdown",
   "id": "ea211b5f-28e1-4a86-8e52-c0b7677cadcc",
   "metadata": {},
   "source": [
    "## Messages\n",
    "\n",
    "The API from OpenAI expects to receive messages in a particular structure.\n",
    "Many of the other APIs share this structure:\n",
    "\n",
    "```\n",
    "[\n",
    "    {\"role\": \"system\", \"content\": \"system message goes here\"},\n",
    "    {\"role\": \"user\", \"content\": \"user message goes here\"}\n",
    "]\n",
    "\n",
    "To give you a preview, the next 2 cells make a rather simple call - we won't stretch the mighty GPT (yet!)"
   ]
  },
  {
   "cell_type": "code",
   "execution_count": 12,
   "id": "f25dcd35-0cd0-4235-9f64-ac37ed9eaaa5",
   "metadata": {},
   "outputs": [],
   "source": [
    "messages = [\n",
    "    {\"role\": \"system\", \"content\": \"You are a snarky assistant\"},\n",
    "    {\"role\": \"user\", \"content\": \"What is 2 + 2?\"}\n",
    "]"
   ]
  },
  {
   "cell_type": "code",
   "execution_count": 13,
   "id": "21ed95c5-7001-47de-a36d-1d6673b403ce",
   "metadata": {},
   "outputs": [
    {
     "name": "stdout",
     "output_type": "stream",
     "text": [
      "Oh, I don't know, maybe it's the answer to life, the universe, and everything? Oh wait, that's 42. But seriously, 2 + 2 is 4. Shocking, I know!\n"
     ]
    }
   ],
   "source": [
    "# To give you a preview -- calling OpenAI with system and user messages:\n",
    "\n",
    "response = openai.chat.completions.create(model=\"gpt-4o-mini\", messages=messages)\n",
    "print(response.choices[0].message.content)"
   ]
  },
  {
   "cell_type": "markdown",
   "id": "d06e8d78-ce4c-4b05-aa8e-17050c82bb47",
   "metadata": {},
   "source": [
    "## And now let's build useful messages for GPT-4o-mini, using a function"
   ]
  },
  {
   "cell_type": "code",
   "execution_count": 14,
   "id": "0134dfa4-8299-48b5-b444-f2a8c3403c88",
   "metadata": {},
   "outputs": [],
   "source": [
    "# See how this function creates exactly the format above\n",
    "\n",
    "def messages_for(website):\n",
    "    return [\n",
    "        {\"role\": \"system\", \"content\": system_prompt},\n",
    "        {\"role\": \"user\", \"content\": user_prompt_for(website)}\n",
    "    ]"
   ]
  },
  {
   "cell_type": "code",
   "execution_count": 15,
   "id": "36478464-39ee-485c-9f3f-6a4e458dbc9c",
   "metadata": {},
   "outputs": [
    {
     "data": {
      "text/plain": [
       "[{'role': 'system',\n",
       "  'content': 'You are an assistant that analyzes the contents of a website and provides a short summary, ignoring text that might be navigation related. Respond in markdown.'},\n",
       " {'role': 'user',\n",
       "  'content': \"You are looking at a website titled Kenneth G. Wood - Data Scientist\\nThe contents of this website is as follows; please provide a short summary of this website in markdown. If it includes news or announcements, then summarize these too.\\n\\nKenneth G. Wood\\nData Scientist\\nWelcome to my Website!\\nIntro\\nWork\\nResume\\nSocial\\nIntro\\nI am a seasoned data scientist who selects, trains and tunes machine learning algorithms (linear/logistic regression, classifiers, neural networks) to transform structured and unstructured data into actionable insights and 'stories'.  The results and value I produce typically drive and shape business strategies and product roadmaps for cloud-based and SaaS software technology solutions. I am proficient with a number of data analysis and programming tools such as Python (including Pandas, NumPy, SciKit-Learn & TensorFlow), R, SQL, Excel and Tableau.\\nWork\\nA machine learning project where I used AWS Sagemaker to perform principle component analysis (PCA) and trained a XGBoost classifier to predict the presence of heart disease.\\nPREDICTING HEART DISEASE USING PCA FOR DIMENSIONALITY REDUCTION AND XGBOOST CLASSIFICATION IN AWS SAGEMAKER AND SCI-KIT LEARN\\nA machine learning project where I used Python's 'TensorFlow' package to train a 100 node recurrent neural network to make predictions on time-series data.\\nTRAINING AN RNN IN TENSORFLOW TO PREDICT TIME-SERIES DATA\\nIn this project, I leveraged a machine learning algorithm called Markov Chains to describe a sequence of possible marketing events in which the probability of each event depends only on the state attained in the previous event. In the context of channel attribution, Markov Chains provide a framework to model user journeys and how each channel factors into the users traveling from one channel to another to eventually purchase (or not). The underlying concept of Markov chains is that customer journey data can be processed to identify the probabilities of moving from one event to another in a network of potential marketing channel events and conversion events.\\nMARKETING CHANNEL ATTRIBUTION USING MARKOV CHAINS\\nA self-produced video that presents the key findings of a comprehensive marketing data analysis project that used SQL queries to extract relevant data from a multi-location database.  A majority of the subsequent data analysis (i.e., number “crunching”) was performed in Excel (using the 'Solver' optimizer) and the results were presented using Tableau, a powerful data visualization platform.\\nINCREASING PROFITS BY HARNESSING DATA ANALYTICS\\nKEN'S GITHUB SITE\\nKEN'S RPUBs (R PROGRAMMING) SITE\\nResume\\nDownload a copy of Ken's current resume.\\nResume\\nSocial\\nLinkedIn\\nGitHub\\nR\\nE-mail\\nElements\\nText\\nThis is\\nbold\\nand this is\\nstrong\\n. This is\\nitalic\\nand this is\\nemphasized\\n.\\r\\n\\t\\t\\t\\t\\t\\t\\t\\t\\tThis is\\nsuperscript\\ntext and this is\\nsubscript\\ntext.\\r\\n\\t\\t\\t\\t\\t\\t\\t\\t\\tThis is\\nunderlined\\nand this is code:\\nfor (;;) { ... }\\n. Finally,\\nthis is a link\\n.\\nHeading Level 2\\nHeading Level 3\\nHeading Level 4\\nHeading Level 5\\nHeading Level 6\\nBlockquote\\nFringilla nisl. Donec accumsan interdum nisi, quis tincidunt felis sagittis eget tempus euismod. Vestibulum ante ipsum primis in faucibus vestibulum. Blandit adipiscing eu felis iaculis volutpat ac adipiscing accumsan faucibus. Vestibulum ante ipsum primis in faucibus lorem ipsum dolor sit amet nullam adipiscing eu felis.\\nPreformatted\\ni = 0;\\r\\n\\r\\nwhile (!deck.isInOrder()) {\\r\\n    print 'Iteration ' + i;\\r\\n    deck.shuffle();\\r\\n    i++;\\r\\n}\\r\\n\\r\\nprint 'It took ' + i + ' iterations to sort the deck.';\\nLists\\nUnordered\\nDolor pulvinar etiam.\\nSagittis adipiscing.\\nFelis enim feugiat.\\nAlternate\\nDolor pulvinar etiam.\\nSagittis adipiscing.\\nFelis enim feugiat.\\nOrdered\\nDolor pulvinar etiam.\\nEtiam vel felis viverra.\\nFelis enim feugiat.\\nDolor pulvinar etiam.\\nEtiam vel felis lorem.\\nFelis enim et feugiat.\\nIcons\\nTwitter\\nFacebook\\nInstagram\\nGithub\\nActions\\nDefault\\nDefault\\nDefault\\nDefault\\nTable\\nDefault\\nName\\nDescription\\nPrice\\nItem One\\nAnte turpis integer aliquet porttitor.\\n29.99\\nItem Two\\nVis ac commodo adipiscing arcu aliquet.\\n19.99\\nItem Three\\nMorbi faucibus arcu accumsan lorem.\\n29.99\\nItem Four\\nVitae integer tempus condimentum.\\n19.99\\nItem Five\\nAnte turpis integer aliquet porttitor.\\n29.99\\n100.00\\nAlternate\\nName\\nDescription\\nPrice\\nItem One\\nAnte turpis integer aliquet porttitor.\\n29.99\\nItem Two\\nVis ac commodo adipiscing arcu aliquet.\\n19.99\\nItem Three\\nMorbi faucibus arcu accumsan lorem.\\n29.99\\nItem Four\\nVitae integer tempus condimentum.\\n19.99\\nItem Five\\nAnte turpis integer aliquet porttitor.\\n29.99\\n100.00\\nButtons\\nPrimary\\nDefault\\nDefault\\nSmall\\nIcon\\nIcon\\nDisabled\\nDisabled\\nForm\\nName\\nEmail\\nCategory\\n-\\nManufacturing\\nShipping\\nAdministration\\nHuman Resources\\nLow\\nHigh\\nEmail me a copy\\nNot a robot\\nMessage\"}]"
      ]
     },
     "execution_count": 15,
     "metadata": {},
     "output_type": "execute_result"
    }
   ],
   "source": [
    "# Try this out, and then try for a few more websites\n",
    "\n",
    "messages_for(ken)"
   ]
  },
  {
   "cell_type": "markdown",
   "id": "16f49d46-bf55-4c3e-928f-68fc0bf715b0",
   "metadata": {},
   "source": [
    "## Time to bring it together - the API for OpenAI is very simple!"
   ]
  },
  {
   "cell_type": "code",
   "execution_count": 16,
   "id": "905b9919-aba7-45b5-ae65-81b3d1d78e34",
   "metadata": {},
   "outputs": [],
   "source": [
    "# And now: call the OpenAI API. You will get very familiar with this!\n",
    "\n",
    "def summarize(url):\n",
    "    website = Website(url)\n",
    "    response = openai.chat.completions.create(\n",
    "        model = \"gpt-4o-mini\",\n",
    "        messages = messages_for(website)\n",
    "    )\n",
    "    return response.choices[0].message.content"
   ]
  },
  {
   "cell_type": "code",
   "execution_count": 17,
   "id": "05e38d41-dfa4-4b20-9c96-c46ea75d9fb5",
   "metadata": {},
   "outputs": [
    {
     "data": {
      "text/plain": [
       "\"# Summary of Kenneth G. Wood - Data Scientist Website\\n\\n**Overview**  \\nKenneth G. Wood is a seasoned data scientist specializing in machine learning algorithms to extract insights from both structured and unstructured data. His expertise in programming and data analysis tools, including Python (with Pandas, NumPy, SciKit-Learn, and TensorFlow), R, SQL, Excel, and Tableau, allows him to drive business strategies and product development for cloud-based and SaaS solutions.\\n\\n## Projects\\n- **Predicting Heart Disease**: Utilized AWS Sagemaker for Principal Component Analysis (PCA) and trained an XGBoost classifier to predict heart disease.\\n  \\n- **Time-Series Prediction**: Employed TensorFlow to train a recurrent neural network (RNN) for time-series data predictions.\\n\\n- **Marketing Channel Attribution**: Used Markov Chains to model customer journeys across marketing channels, assessing probabilities of conversion events.\\n\\n- **Profit Enhancement through Data Analytics**: Created a video presenting findings from a comprehensive marketing data analysis, utilizing SQL, Excel (with Solver), and Tableau for data visualization.\\n\\n## Additional Resources\\n- Links to Kenneth's **GitHub** and **R programming** site are available for further exploration of his work.\\n\\n## Contact\\n- Social links include **LinkedIn**, **GitHub**, and an email option for direct contact.\\n\\nThis summary provides an overview of Kenneth G. Wood's professional capabilities, key projects, and contact information, showcasing his role as a proficient data scientist.\""
      ]
     },
     "execution_count": 17,
     "metadata": {},
     "output_type": "execute_result"
    }
   ],
   "source": [
    "summarize(\"https://roarmarketingconcepts.github.io\")"
   ]
  },
  {
   "cell_type": "code",
   "execution_count": 18,
   "id": "3d926d59-450e-4609-92ba-2d6f244f1342",
   "metadata": {},
   "outputs": [],
   "source": [
    "# A function to display this nicely in the Jupyter output, using markdown\n",
    "\n",
    "def display_summary(url):\n",
    "    summary = summarize(url)\n",
    "    display(Markdown(summary))"
   ]
  },
  {
   "cell_type": "code",
   "execution_count": 19,
   "id": "3018853a-445f-41ff-9560-d925d1774b2f",
   "metadata": {},
   "outputs": [
    {
     "data": {
      "text/markdown": [
       "# Summary of Kenneth G. Wood's Website\n",
       "\n",
       "Kenneth G. Wood is an experienced data scientist specializing in machine learning and data analysis. He focuses on transforming various types of data into actionable insights that influence business strategies and product development, particularly in cloud-based and SaaS environments. His skillset includes proficiency in Python (with libraries such as Pandas, NumPy, SciKit-Learn, and TensorFlow), R, SQL, Excel, and Tableau.\n",
       "\n",
       "## Work Portfolio\n",
       "\n",
       "Kenneth showcases several machine learning projects:\n",
       "\n",
       "1. **Predicting Heart Disease**: Utilized AWS Sagemaker for principal component analysis (PCA) and trained an XGBoost classifier.\n",
       "2. **Time-Series Predictions**: Developed a 100-node recurrent neural network in TensorFlow for time-series data forecasting.\n",
       "3. **Marketing Channel Attribution**: Employed Markov Chains to analyze user journeys and channel influence on purchase decisions.\n",
       "4. **Data Analysis for Profit Increase**: Created a video detailing a project that extracted and analyzed data from a multi-location database using SQL, Excel, and Tableau.\n",
       "\n",
       "Links to his GitHub and R programming resources are also provided.\n",
       "\n",
       "## Resume\n",
       "\n",
       "Visitors can download Kenneth's current resume directly from the website.\n",
       "\n",
       "## Social Links\n",
       "\n",
       "Kenneth's website features links to his LinkedIn, GitHub, and R programming sites, as well as an option to contact him via email."
      ],
      "text/plain": [
       "<IPython.core.display.Markdown object>"
      ]
     },
     "metadata": {},
     "output_type": "display_data"
    }
   ],
   "source": [
    "display_summary(\"https://roarmarketingconcepts.github.io\")"
   ]
  },
  {
   "cell_type": "markdown",
   "id": "b3bcf6f4-adce-45e9-97ad-d9a5d7a3a624",
   "metadata": {},
   "source": [
    "# Let's try more websites\n",
    "\n",
    "Note that this will only work on websites that can be scraped using this simplistic approach.\n",
    "\n",
    "Websites that are rendered with Javascript, like React apps, won't show up. See the community-contributions folder for a Selenium implementation that gets around this. You'll need to read up on installing Selenium (ask ChatGPT!)\n",
    "\n",
    "Also Websites protected with CloudFront (and similar) may give 403 errors - many thanks Andy J for pointing this out.\n",
    "\n",
    "But many websites will work just fine!"
   ]
  },
  {
   "cell_type": "code",
   "execution_count": 20,
   "id": "45d83403-a24c-44b5-84ac-961449b4008f",
   "metadata": {},
   "outputs": [
    {
     "data": {
      "text/markdown": [
       "# CNN Website Summary\n",
       "\n",
       "CNN serves as a comprehensive news platform providing breaking news, live updates, and in-depth analyses across various topics including politics, world events, business, health, entertainment, sports, and science.\n",
       "\n",
       "## Key News Highlights\n",
       "- **Politics**: Recent analysis discusses Trump’s actions related to immigration and the effects of a potential recession.\n",
       "- **International Affairs**: Reports on rising tensions in the Israel-Hamas conflict with missiles being launched from Gaza.\n",
       "- **Business**: The Federal Reserve has decided to maintain interest rates, which has implications for both consumers and the economy.\n",
       "- **Entertainment**: Notable celebrity news includes divorce proceedings, movie industry updates, and price changes from major brands like Tesla and Nike.\n",
       "\n",
       "## Coverage Areas\n",
       "- **US News**: Details on crime, justice, and prominent court cases.\n",
       "- **World News**: Current events from various regions, including Europe, Asia, and the Americas.\n",
       "- **Health and Science**: Updates on health advisories, innovative technologies, and scientific research.\n",
       "- **Sports**: Coverage of major sports events, analyses of performance, and updates on athlete conditions.\n",
       "\n",
       "The website also features video content, podcasts, and interactive elements that delve into specific subjects, making it a resource for both casual readers and those seeking detailed information."
      ],
      "text/plain": [
       "<IPython.core.display.Markdown object>"
      ]
     },
     "metadata": {},
     "output_type": "display_data"
    }
   ],
   "source": [
    "display_summary(\"https://cnn.com\")"
   ]
  },
  {
   "cell_type": "code",
   "execution_count": 21,
   "id": "75e9fd40-b354-4341-991e-863ef2e59db7",
   "metadata": {},
   "outputs": [
    {
     "data": {
      "text/markdown": [
       "# Anthropic Website Summary\n",
       "\n",
       "Anthropic is an AI safety and research company focusing on creating reliable and beneficial AI systems. The company's latest product, **Claude 3.7 Sonnet**, is highlighted as their most advanced AI model, known for its hybrid reasoning capabilities. Additionally, they have introduced **Claude Code**, a tool designed for coding applications.\n",
       "\n",
       "## Recent Announcements\n",
       "- **Claude 3.7 Sonnet Launch**: Announced as the highest-performing AI model to date, featuring innovative reasoning capabilities.\n",
       "- **Claude Code Launch**: A new agentic tool aimed at enhancing coding processes.\n",
       "\n",
       "The organization emphasizes their interdisciplinary approach combining expertise in machine learning, physics, policy, and product development to ensure the safety and effectiveness of AI technologies."
      ],
      "text/plain": [
       "<IPython.core.display.Markdown object>"
      ]
     },
     "metadata": {},
     "output_type": "display_data"
    }
   ],
   "source": [
    "display_summary(\"https://anthropic.com\")"
   ]
  },
  {
   "cell_type": "markdown",
   "id": "c951be1a-7f1b-448f-af1f-845978e47e2c",
   "metadata": {},
   "source": [
    "<table style=\"margin: 0; text-align: left;\">\n",
    "    <tr>\n",
    "        <td style=\"width: 150px; height: 150px; vertical-align: middle;\">\n",
    "            <img src=\"../business.jpg\" width=\"150\" height=\"150\" style=\"display: block;\" />\n",
    "        </td>\n",
    "        <td>\n",
    "            <h2 style=\"color:#181;\">Business applications</h2>\n",
    "            <span style=\"color:#181;\">In this exercise, you experienced calling the Cloud API of a Frontier Model (a leading model at the frontier of AI) for the first time. We will be using APIs like OpenAI at many stages in the course, in addition to building our own LLMs.\n",
    "\n",
    "More specifically, we've applied this to Summarization - a classic Gen AI use case to make a summary. This can be applied to any business vertical - summarizing the news, summarizing financial performance, summarizing a resume in a cover letter - the applications are limitless. Consider how you could apply Summarization in your business, and try prototyping a solution.</span>\n",
    "        </td>\n",
    "    </tr>\n",
    "</table>\n",
    "\n",
    "<table style=\"margin: 0; text-align: left;\">\n",
    "    <tr>\n",
    "        <td style=\"width: 150px; height: 150px; vertical-align: middle;\">\n",
    "            <img src=\"../important.jpg\" width=\"150\" height=\"150\" style=\"display: block;\" />\n",
    "        </td>\n",
    "        <td>\n",
    "            <h2 style=\"color:#900;\">Before you continue - now try yourself</h2>\n",
    "            <span style=\"color:#900;\">Use the cell below to make your own simple commercial example. Stick with the summarization use case for now. Here's an idea: write something that will take the contents of an email, and will suggest an appropriate short subject line for the email. That's the kind of feature that might be built into a commercial email tool.</span>\n",
    "        </td>\n",
    "    </tr>\n",
    "</table>"
   ]
  },
  {
   "cell_type": "code",
   "execution_count": 24,
   "id": "00743dac-0e70-45b7-879a-d7293a6f68a6",
   "metadata": {},
   "outputs": [
    {
     "name": "stdout",
     "output_type": "stream",
     "text": [
      "ChatCompletion(id='chatcmpl-BDJVEeJEyBbIJEMD1YBhailn2QYdL', choices=[Choice(finish_reason='stop', index=0, logprobs=None, message=ChatCompletionMessage(content='# Resumen del Sitio Web de Kenneth G. Wood\\n\\nKenneth G. Wood es un científico de datos experimentado que se especializa en seleccionar, entrenar y ajustar algoritmos de aprendizaje automático para convertir datos estructurados y no estructurados en información valiosa. Utiliza herramientas de análisis de datos y programación, como Python, R, SQL, Excel y Tableau, para influir en estrategias comerciales y hojas de ruta de productos en soluciones basadas en la nube y SaaS.\\n\\n## Proyectos Presentados\\n\\n1. **Predicción de Enfermedades Cardiacas**: Utilización de AWS Sagemaker para realizar un análisis de componentes principales (PCA) y entrenar un clasificador XGBoost para predecir la presencia de enfermedades cardíacas.\\n   \\n2. **Predicción de Series Temporales**: Entrenamiento de una red neuronal recurrente en TensorFlow para realizar predicciones sobre datos de series temporales.\\n\\n3. **Atribución de Canales de Marketing**: Aplicación de cadenas de Markov para modelar el viaje del usuario y la probabilidad de transición entre eventos de marketing hasta la conversión.\\n\\n4. **Análisis de Datos de Marketing**: Producción de un video que presenta los hallazgos de un análisis de datos de marketing que utilizó consultas SQL y Excel para el análisis, mostrando los resultados en Tableau.\\n\\nEl sitio también incluye enlaces a sus perfiles profesionales en GitHub y LinkedIn, así como la opción de descargar su currículum actual.', refusal=None, role='assistant', annotations=[], audio=None, function_call=None, tool_calls=None))], created=1742512932, model='gpt-4o-mini-2024-07-18', object='chat.completion', service_tier='default', system_fingerprint='fp_b8bc95a0ac', usage=CompletionUsage(completion_tokens=308, prompt_tokens=1139, total_tokens=1447, completion_tokens_details=CompletionTokensDetails(accepted_prediction_tokens=0, audio_tokens=0, reasoning_tokens=0, rejected_prediction_tokens=0), prompt_tokens_details=PromptTokensDetails(audio_tokens=0, cached_tokens=0)))\n"
     ]
    }
   ],
   "source": [
    "# Step 1: Create your prompts\n",
    "\n",
    "system_prompt = \"You are an assistant that analyzes the contents of a website \\\n",
    "and provides a short summary, ignoring text that might be navigation related. \\\n",
    "Respond in Spanish using markdown.\"\n",
    "user_prompt = user_prompt_for(ken)\n",
    "\n",
    "\"\"\"\n",
    "    Lots of text\n",
    "    Can be pasted here\n",
    "\"\"\"\n",
    "\n",
    "# Step 2: Make the messages list\n",
    "\n",
    "messages = messages_for(ken) # fill this in\n",
    "\n",
    "# Step 3: Call OpenAI\n",
    "\n",
    "response = openai.chat.completions.create(model=\"gpt-4o-mini\", messages=messages)\n",
    "\n",
    "# Step 4: print the result\n",
    "\n",
    "print(response)"
   ]
  },
  {
   "cell_type": "markdown",
   "id": "36ed9f14-b349-40e9-a42c-b367e77f8bda",
   "metadata": {},
   "source": [
    "## An extra exercise for those who enjoy web scraping\n",
    "\n",
    "You may notice that if you try `display_summary(\"https://openai.com\")` - it doesn't work! That's because OpenAI has a fancy website that uses Javascript. There are many ways around this that some of you might be familiar with. For example, Selenium is a hugely popular framework that runs a browser behind the scenes, renders the page, and allows you to query it. If you have experience with Selenium, Playwright or similar, then feel free to improve the Website class to use them. In the community-contributions folder, you'll find an example Selenium solution from a student (thank you!)"
   ]
  },
  {
   "cell_type": "markdown",
   "id": "eeab24dc-5f90-4570-b542-b0585aca3eb6",
   "metadata": {},
   "source": [
    "# Sharing your code\n",
    "\n",
    "I'd love it if you share your code afterwards so I can share it with others! You'll notice that some students have already made changes (including a Selenium implementation) which you will find in the community-contributions folder. If you'd like add your changes to that folder, submit a Pull Request with your new versions in that folder and I'll merge your changes.\n",
    "\n",
    "If you're not an expert with git (and I am not!) then GPT has given some nice instructions on how to submit a Pull Request. It's a bit of an involved process, but once you've done it once it's pretty clear. As a pro-tip: it's best if you clear the outputs of your Jupyter notebooks (Edit >> Clean outputs of all cells, and then Save) for clean notebooks.\n",
    "\n",
    "Here are good instructions courtesy of an AI friend:  \n",
    "https://chatgpt.com/share/677a9cb5-c64c-8012-99e0-e06e88afd293"
   ]
  },
  {
   "cell_type": "code",
   "execution_count": null,
   "id": "f4484fcf-8b39-4c3f-9674-37970ed71988",
   "metadata": {},
   "outputs": [],
   "source": []
  }
 ],
 "metadata": {
  "kernelspec": {
   "display_name": "Python 3 (ipykernel)",
   "language": "python",
   "name": "python3"
  },
  "language_info": {
   "codemirror_mode": {
    "name": "ipython",
    "version": 3
   },
   "file_extension": ".py",
   "mimetype": "text/x-python",
   "name": "python",
   "nbconvert_exporter": "python",
   "pygments_lexer": "ipython3",
   "version": "3.11.11"
  }
 },
 "nbformat": 4,
 "nbformat_minor": 5
}
